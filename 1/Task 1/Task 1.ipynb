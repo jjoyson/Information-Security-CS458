{
 "cells": [
  {
   "cell_type": "markdown",
   "metadata": {},
   "source": [
    "# Ciphertext"
   ]
  },
  {
   "cell_type": "code",
   "execution_count": 1,
   "metadata": {},
   "outputs": [
    {
     "name": "stdout",
     "output_type": "stream",
     "text": [
      "hfcnkopw ahyplhp ya wznysgj hxzlvylv oxp qfwgs qyox lpq spdpgfncploa xznnplylv pdpwj szj z wyvfwfka pskhzoyfl hfceylylv oxp oxpfwj fu ylufwczoyfl zls hfcnkozoyfl qyox xzlsafl ajaopca zls afuoqzwp spayvl ya oxp ipj of akhhpaa za flp fu oxp fgspao hfcnkopw ahyplhp spnzwocploa yl oxp hxyhzvf zwpz oxp ha spnzwocplo zo yyo xza z gflv xyaofwj fu cppoylv oxya hxzggplvp oxwfkvx mkzgyoj pskhzoyfl yl aczgg hgzaawffc pldywflcploa zgflv qyox ylopwlaxyn zls wpapzwhx fnnfwoklyoypa yl ylskaowj zls lzoyflzg gzefwzofwypayyo aoksploa qfwi qyox fkw uzhkgoj fl qfwgshgzaa wpapzwhx yl zwpza oxzo ylhgksp szoz ahyplhp syaowyekops ajaopca ylufwczoyfl wpowypdzg hfcnkopw lpoqfwiylv ylopggyvplo ylufwczoyfl ajaopca zls zgvfwyoxca oxp spnzwocplo fuupwa ezhxpgfw fu ahyplhp czaopw fu ahyplhp nwfupaayflzg czaopw zls nxs spvwppa ngka vwzskzop hpwoyuyhzopa zhhpgpwzops hfkwapa zls lflspvwpp aoksj nzwooycp aoksploa hzl ozip pdplylv hgzaapa zls gflvsyaozlhp aoksploa hzl pzwl czaopwa spvwppa flgylp aoksploa wzop fkw opzhxylv za zcflv oxp epao zo oxp klydpwayoj zls fkw uzhkgoj xzdp qfl lkcpwfka opzhxylv zqzwsaoxp aphwpo aploplhp ya vffs bfe vkja\n"
     ]
    }
   ],
   "source": [
    "from collections import Counter\n",
    "file = open(\"ciphertext.txt\",\"r\")\n",
    "\n",
    "ciphertext = file.read()\n",
    "\n",
    "ciphertext = ciphertext.replace(\"\\n\",\"\")\n",
    "\n",
    "print(ciphertext)"
   ]
  },
  {
   "cell_type": "markdown",
   "metadata": {},
   "source": [
    "# Text frequencies"
   ]
  },
  {
   "cell_type": "code",
   "execution_count": 2,
   "metadata": {},
   "outputs": [
    {
     "name": "stdout",
     "output_type": "stream",
     "text": [
      "Plaintext Frequency:\n",
      " [('e', '12.7 %'), ('t', '9.1 %'), ('a', '8.2 %'), ('o', '7.5 %'), ('i', '7.0 %'), ('n', '6.7 %'), ('s', '6.3 %'), ('h', '6.1 %'), ('r', '6.0 %'), ('d', '4.3 %'), ('l', '4.0 %'), ('u', '2.8 %'), ('c', '2.8 %'), ('m', '2.4 %'), ('w', '2.4 %'), ('f', '2.2 %'), ('y', '2.0 %'), ('g', '2.0 %'), ('p', '1.9 %'), ('b', '1.5 %'), ('v', '1.0 %'), ('k', '0.8 %'), ('x', '0.2 %'), ('j', '0.2 %'), ('q', '0.1 %'), ('z', '0.1 %')]\n",
      "\n",
      "\n",
      "Ciphertext Frequency:\n",
      " [('p', '12.07 %'), ('o', '9.68 %'), ('l', '8.84 %'), ('a', '8.43 %'), ('z', '8.22 %'), ('y', '7.08 %'), ('f', '6.66 %'), ('w', '6.35 %'), ('h', '4.68 %'), ('s', '4.27 %'), ('x', '3.64 %'), ('k', '3.23 %'), ('g', '3.12 %'), ('c', '2.71 %'), ('v', '2.71 %'), ('n', '1.87 %'), ('j', '1.66 %'), ('u', '1.56 %'), ('q', '1.25 %'), ('d', '0.73 %'), ('e', '0.62 %'), ('i', '0.42 %'), ('b', '0.1 %'), ('m', '0.1 %'), ('r', '0.0 %'), ('t', '0.0 %')]\n"
     ]
    }
   ],
   "source": [
    "pt_frequency = [('e', '12.7 %'),('t', '9.1 %'),('a', '8.2 %'),('o', '7.5 %'),('i', '7.0 %'),('n', '6.7 %'),('s', '6.3 %'),('h', '6.1 %'),('r', '6.0 %'),('d', '4.3 %'),('l', '4.0 %'),('u', '2.8 %'),('c', '2.8 %'),('m', '2.4 %'),('w', '2.4 %'),('f', '2.2 %'),('y', '2.0 %'),('g', '2.0 %'),('p', '1.9 %'),('b', '1.5 %'),('v', '1.0 %'),('k', '0.8 %'),('x', '0.2 %'),('j', '0.2 %'),('q', '0.1 %'),('z', '0.1 %')]\n",
    "ct_frequency = []\n",
    "alphabets = 'abcdefghijklmnopqrstuvwxyz'\n",
    "counter = 0\n",
    "size = len(ciphertext.replace(\" \",\"\"))\n",
    "\n",
    "for a in alphabets:\n",
    "    counter = 0\n",
    "    for c in ciphertext:\n",
    "        if not  c == ' ':\n",
    "            if a == c:\n",
    "                counter += 1\n",
    "    \n",
    "    ct_frequency += [(str(a),float(\"%.2f\" % ((counter/size)*100)))]\n",
    "\n",
    "ct_frequency.sort(key = lambda x: x[1], reverse = True)\n",
    "ct_frequency = [(key, str(value) + ' %') for key, value in ct_frequency]\n",
    "print('Plaintext Frequency:\\n',pt_frequency)\n",
    "print('\\n')\n",
    "print('Ciphertext Frequency:\\n',ct_frequency)"
   ]
  },
  {
   "cell_type": "markdown",
   "metadata": {},
   "source": [
    "# One letter word in ciphertext"
   ]
  },
  {
   "cell_type": "code",
   "execution_count": 3,
   "metadata": {},
   "outputs": [
    {
     "name": "stdout",
     "output_type": "stream",
     "text": [
      "Counter({'z': 2})\n"
     ]
    }
   ],
   "source": [
    "one_letter = []\n",
    "words = ciphertext.split(\" \")\n",
    "for w in words:\n",
    "    if len(w) == 1:\n",
    "        one_letter += [w]\n",
    "        \n",
    "print(Counter(one_letter))"
   ]
  },
  {
   "cell_type": "markdown",
   "metadata": {},
   "source": [
    "# Double letters"
   ]
  },
  {
   "cell_type": "code",
   "execution_count": 4,
   "metadata": {},
   "outputs": [
    {
     "name": "stdout",
     "output_type": "stream",
     "text": [
      "Counter({'a': 5, 'p': 4, 'g': 3, 'n': 2, 'h': 2, 'y': 2, 'f': 2, 'u': 1, 'o': 1})\n"
     ]
    }
   ],
   "source": [
    "double_letter = []\n",
    "for w in words:\n",
    "    temp = \"\"\n",
    "    for l in w:\n",
    "        if temp == l:\n",
    "            double_letter += [l]\n",
    "        temp = l\n",
    "print(Counter(double_letter))"
   ]
  },
  {
   "cell_type": "markdown",
   "metadata": {},
   "source": [
    "# Two letter word in ciphertext"
   ]
  },
  {
   "cell_type": "code",
   "execution_count": 5,
   "metadata": {},
   "outputs": [
    {
     "name": "stdout",
     "output_type": "stream",
     "text": [
      "Counter({'fu': 5, 'yl': 4, 'ya': 3, 'za': 2, 'zo': 2, 'of': 1, 'ha': 1, 'fl': 1})\n"
     ]
    }
   ],
   "source": [
    "two_letter = []\n",
    "for w in words:\n",
    "    if len(w) == 2:\n",
    "        two_letter += [w]\n",
    "print(Counter(two_letter))"
   ]
  },
  {
   "cell_type": "markdown",
   "metadata": {},
   "source": [
    "# Three letter word in ciphertext"
   ]
  },
  {
   "cell_type": "code",
   "execution_count": 6,
   "metadata": {
    "scrolled": true
   },
   "outputs": [
    {
     "name": "stdout",
     "output_type": "stream",
     "text": [
      "Counter({'oxp': 9, 'zls': 9, 'fkw': 3, 'hzl': 2, 'lpq': 1, 'szj': 1, 'ipj': 1, 'flp': 1, 'yyo': 1, 'xza': 1, 'nxs': 1, 'qfl': 1, 'bfe': 1})\n"
     ]
    }
   ],
   "source": [
    "three_letter = []\n",
    "for w in words:\n",
    "    if len(w) == 3:\n",
    "        three_letter += [w]\n",
    "print(Counter(three_letter))"
   ]
  },
  {
   "cell_type": "markdown",
   "metadata": {},
   "source": [
    "# Frequent initial letters"
   ]
  },
  {
   "cell_type": "code",
   "execution_count": 7,
   "metadata": {},
   "outputs": [
    {
     "name": "stdout",
     "output_type": "stream",
     "text": [
      "[('z', '0.12 %'), ('a', '0.11 %'), ('o', '0.11 %'), ('h', '0.09 %'), ('y', '0.09 %'), ('f', '0.09 %'), ('s', '0.06 %'), ('q', '0.05 %'), ('p', '0.04 %'), ('w', '0.04 %'), ('l', '0.03 %'), ('x', '0.03 %'), ('c', '0.02 %'), ('n', '0.02 %'), ('g', '0.02 %'), ('v', '0.02 %'), ('e', '0.01 %'), ('u', '0.01 %'), ('b', '0.01 %'), ('i', '0.01 %'), ('k', '0.01 %'), ('m', '0.01 %'), ('d', '0.00 %'), ('j', '0.00 %'), ('r', '0.00 %'), ('t', '0.00 %')]\n"
     ]
    }
   ],
   "source": [
    "size = 0\n",
    "initial_frequency = []\n",
    "for a in alphabets:\n",
    "    counter = 0\n",
    "    for w in words:\n",
    "        if len(w) > 1:\n",
    "            if w[0] == a:\n",
    "                counter += 1\n",
    "    size += counter\n",
    "    \n",
    "    initial_frequency += [(str(a),float(\"%.2f\" % counter))]\n",
    "\n",
    "initial_frequency.sort(key = lambda x: x[1], reverse = True)\n",
    "initial_frequency = [(key, str(\"%.2f\" %(value/size)) + ' %') for key, value in initial_frequency]\n",
    "\n",
    "print(initial_frequency)"
   ]
  },
  {
   "cell_type": "markdown",
   "metadata": {},
   "source": [
    "# Frequent final letters"
   ]
  },
  {
   "cell_type": "code",
   "execution_count": 8,
   "metadata": {
    "scrolled": true
   },
   "outputs": [
    {
     "name": "stdout",
     "output_type": "stream",
     "text": [
      "[('a', '0.21 %'), ('p', '0.17 %'), ('l', '0.11 %'), ('s', '0.09 %'), ('j', '0.07 %'), ('o', '0.07 %'), ('v', '0.07 %'), ('w', '0.06 %'), ('x', '0.04 %'), ('u', '0.03 %'), ('g', '0.02 %'), ('f', '0.01 %'), ('z', '0.01 %'), ('c', '0.01 %'), ('e', '0.01 %'), ('i', '0.01 %'), ('n', '0.01 %'), ('q', '0.01 %'), ('b', '0.00 %'), ('d', '0.00 %'), ('h', '0.00 %'), ('k', '0.00 %'), ('m', '0.00 %'), ('r', '0.00 %'), ('t', '0.00 %'), ('y', '0.00 %')]\n"
     ]
    }
   ],
   "source": [
    "size = 0\n",
    "final_frequency = []\n",
    "for a in alphabets:\n",
    "    counter = 0\n",
    "    for w in words:\n",
    "        if len(w) > 1:\n",
    "            if w[-1] == a:\n",
    "                counter += 1\n",
    "    size += counter\n",
    "    \n",
    "    final_frequency += [(str(a),float(\"%.2f\" % counter))]\n",
    "\n",
    "final_frequency.sort(key = lambda x: x[1], reverse = True)\n",
    "final_frequency = [(key, str(\"%.2f\" %(value/size)) + ' %') for key, value in final_frequency]\n",
    "\n",
    "print(final_frequency)"
   ]
  },
  {
   "cell_type": "markdown",
   "metadata": {},
   "source": [
    "# Substitution"
   ]
  },
  {
   "cell_type": "code",
   "execution_count": 9,
   "metadata": {},
   "outputs": [],
   "source": [
    "cipher_to_plain = {}"
   ]
  },
  {
   "cell_type": "markdown",
   "metadata": {},
   "source": [
    "## One Letter Frequency (z)"
   ]
  },
  {
   "cell_type": "code",
   "execution_count": 10,
   "metadata": {},
   "outputs": [
    {
     "data": {
      "text/plain": [
       "'hfcnkopw ahyplhp ya wAnysgj hxAlvylv oxp qfwgs qyox lpq spdpgfncploa xAnnplylv pdpwj sAj A wyvfwfka pskhAoyfl hfceylylv oxp oxpfwj fu ylufwcAoyfl Als hfcnkoAoyfl qyox xAlsafl ajaopca Als afuoqAwp spayvl ya oxp ipj of akhhpaa Aa flp fu oxp fgspao hfcnkopw ahyplhp spnAwocploa yl oxp hxyhAvf AwpA oxp ha spnAwocplo Ao yyo xAa A gflv xyaofwj fu cppoylv oxya hxAggplvp oxwfkvx mkAgyoj pskhAoyfl yl acAgg hgAaawffc pldywflcploa Agflv qyox ylopwlaxyn Als wpapAwhx fnnfwoklyoypa yl ylskaowj Als lAoyflAg gAefwAofwypayyo aoksploa qfwi qyox fkw uAhkgoj fl qfwgshgAaa wpapAwhx yl AwpAa oxAo ylhgksp sAoA ahyplhp syaowyekops ajaopca ylufwcAoyfl wpowypdAg hfcnkopw lpoqfwiylv ylopggyvplo ylufwcAoyfl ajaopca Als Agvfwyoxca oxp spnAwocplo fuupwa eAhxpgfw fu ahyplhp cAaopw fu ahyplhp nwfupaayflAg cAaopw Als nxs spvwppa ngka vwAskAop hpwoyuyhAopa AhhpgpwAops hfkwapa Als lflspvwpp aoksj nAwooycp aoksploa hAl oAip pdplylv hgAaapa Als gflvsyaoAlhp aoksploa hAl pAwl cAaopwa spvwppa flgylp aoksploa wAop fkw opAhxylv Aa Acflv oxp epao Ao oxp klydpwayoj Als fkw uAhkgoj xAdp qfl lkcpwfka opAhxylv AqAwsaoxp aphwpo aploplhp ya vffs bfe vkja'"
      ]
     },
     "execution_count": 10,
     "metadata": {},
     "output_type": "execute_result"
    }
   ],
   "source": [
    "cipher_to_plain['z'] = 'A'\n",
    "ciphertext = ciphertext.replace('z','A')\n",
    "ciphertext"
   ]
  },
  {
   "cell_type": "markdown",
   "metadata": {},
   "source": [
    "## Double Letter + Final Letter Frequency (aa)"
   ]
  },
  {
   "cell_type": "code",
   "execution_count": 11,
   "metadata": {
    "scrolled": true
   },
   "outputs": [
    {
     "data": {
      "text/plain": [
       "'hfcnkopw Shyplhp yS wAnysgj hxAlvylv oxp qfwgs qyox lpq spdpgfncploS xAnnplylv pdpwj sAj A wyvfwfkS pskhAoyfl hfceylylv oxp oxpfwj fu ylufwcAoyfl Als hfcnkoAoyfl qyox xAlsSfl SjSopcS Als SfuoqAwp spSyvl yS oxp ipj of SkhhpSS AS flp fu oxp fgspSo hfcnkopw Shyplhp spnAwocploS yl oxp hxyhAvf AwpA oxp hS spnAwocplo Ao yyo xAS A gflv xySofwj fu cppoylv oxyS hxAggplvp oxwfkvx mkAgyoj pskhAoyfl yl ScAgg hgASSwffc pldywflcploS Agflv qyox ylopwlSxyn Als wpSpAwhx fnnfwoklyoypS yl ylskSowj Als lAoyflAg gAefwAofwypSyyo SoksploS qfwi qyox fkw uAhkgoj fl qfwgshgASS wpSpAwhx yl AwpAS oxAo ylhgksp sAoA Shyplhp sySowyekops SjSopcS ylufwcAoyfl wpowypdAg hfcnkopw lpoqfwiylv ylopggyvplo ylufwcAoyfl SjSopcS Als AgvfwyoxcS oxp spnAwocplo fuupwS eAhxpgfw fu Shyplhp cASopw fu Shyplhp nwfupSSyflAg cASopw Als nxs spvwppS ngkS vwAskAop hpwoyuyhAopS AhhpgpwAops hfkwSpS Als lflspvwpp Soksj nAwooycp SoksploS hAl oAip pdplylv hgASSpS Als gflvsySoAlhp SoksploS hAl pAwl cASopwS spvwppS flgylp SoksploS wAop fkw opAhxylv AS Acflv oxp epSo Ao oxp klydpwSyoj Als fkw uAhkgoj xAdp qfl lkcpwfkS opAhxylv AqAwsSoxp Sphwpo Sploplhp yS vffs bfe vkjS'"
      ]
     },
     "execution_count": 11,
     "metadata": {},
     "output_type": "execute_result"
    }
   ],
   "source": [
    "cipher_to_plain['a'] = 'S'\n",
    "ciphertext = ciphertext.replace('a','S')\n",
    "ciphertext"
   ]
  },
  {
   "cell_type": "markdown",
   "metadata": {},
   "source": [
    "## Most Frequent Letter (p)"
   ]
  },
  {
   "cell_type": "code",
   "execution_count": 12,
   "metadata": {
    "scrolled": true
   },
   "outputs": [
    {
     "data": {
      "text/plain": [
       "'hfcnkoEw ShyElhE yS wAnysgj hxAlvylv oxE qfwgs qyox lEq sEdEgfncEloS xAnnElylv EdEwj sAj A wyvfwfkS EskhAoyfl hfceylylv oxE oxEfwj fu ylufwcAoyfl Als hfcnkoAoyfl qyox xAlsSfl SjSoEcS Als SfuoqAwE sESyvl yS oxE iEj of SkhhESS AS flE fu oxE fgsESo hfcnkoEw ShyElhE sEnAwocEloS yl oxE hxyhAvf AwEA oxE hS sEnAwocElo Ao yyo xAS A gflv xySofwj fu cEEoylv oxyS hxAggElvE oxwfkvx mkAgyoj EskhAoyfl yl ScAgg hgASSwffc EldywflcEloS Agflv qyox yloEwlSxyn Als wESEAwhx fnnfwoklyoyES yl ylskSowj Als lAoyflAg gAefwAofwyESyyo SoksEloS qfwi qyox fkw uAhkgoj fl qfwgshgASS wESEAwhx yl AwEAS oxAo ylhgksE sAoA ShyElhE sySowyekoEs SjSoEcS ylufwcAoyfl wEowyEdAg hfcnkoEw lEoqfwiylv yloEggyvElo ylufwcAoyfl SjSoEcS Als AgvfwyoxcS oxE sEnAwocElo fuuEwS eAhxEgfw fu ShyElhE cASoEw fu ShyElhE nwfuESSyflAg cASoEw Als nxs sEvwEES ngkS vwAskAoE hEwoyuyhAoES AhhEgEwAoEs hfkwSES Als lflsEvwEE Soksj nAwooycE SoksEloS hAl oAiE EdElylv hgASSES Als gflvsySoAlhE SoksEloS hAl EAwl cASoEwS sEvwEES flgylE SoksEloS wAoE fkw oEAhxylv AS Acflv oxE eESo Ao oxE klydEwSyoj Als fkw uAhkgoj xAdE qfl lkcEwfkS oEAhxylv AqAwsSoxE SEhwEo SEloElhE yS vffs bfe vkjS'"
      ]
     },
     "execution_count": 12,
     "metadata": {},
     "output_type": "execute_result"
    }
   ],
   "source": [
    "cipher_to_plain['p'] = 'E'\n",
    "ciphertext = ciphertext.replace('p','E')\n",
    "ciphertext"
   ]
  },
  {
   "cell_type": "markdown",
   "metadata": {},
   "source": [
    "## Two Word Frequency (at)"
   ]
  },
  {
   "cell_type": "code",
   "execution_count": 13,
   "metadata": {},
   "outputs": [
    {
     "data": {
      "text/plain": [
       "'hfcnkTEw ShyElhE yS wAnysgj hxAlvylv TxE qfwgs qyTx lEq sEdEgfncElTS xAnnElylv EdEwj sAj A wyvfwfkS EskhATyfl hfceylylv TxE TxEfwj fu ylufwcATyfl Als hfcnkTATyfl qyTx xAlsSfl SjSTEcS Als SfuTqAwE sESyvl yS TxE iEj Tf SkhhESS AS flE fu TxE fgsEST hfcnkTEw ShyElhE sEnAwTcElTS yl TxE hxyhAvf AwEA TxE hS sEnAwTcElT AT yyT xAS A gflv xySTfwj fu cEETylv TxyS hxAggElvE Txwfkvx mkAgyTj EskhATyfl yl ScAgg hgASSwffc EldywflcElTS Agflv qyTx ylTEwlSxyn Als wESEAwhx fnnfwTklyTyES yl ylskSTwj Als lATyflAg gAefwATfwyESyyT STksElTS qfwi qyTx fkw uAhkgTj fl qfwgshgASS wESEAwhx yl AwEAS TxAT ylhgksE sATA ShyElhE sySTwyekTEs SjSTEcS ylufwcATyfl wETwyEdAg hfcnkTEw lETqfwiylv ylTEggyvElT ylufwcATyfl SjSTEcS Als AgvfwyTxcS TxE sEnAwTcElT fuuEwS eAhxEgfw fu ShyElhE cASTEw fu ShyElhE nwfuESSyflAg cASTEw Als nxs sEvwEES ngkS vwAskATE hEwTyuyhATES AhhEgEwATEs hfkwSES Als lflsEvwEE STksj nAwTTycE STksElTS hAl TAiE EdElylv hgASSES Als gflvsySTAlhE STksElTS hAl EAwl cASTEwS sEvwEES flgylE STksElTS wATE fkw TEAhxylv AS Acflv TxE eEST AT TxE klydEwSyTj Als fkw uAhkgTj xAdE qfl lkcEwfkS TEAhxylv AqAwsSTxE SEhwET SElTElhE yS vffs bfe vkjS'"
      ]
     },
     "execution_count": 13,
     "metadata": {},
     "output_type": "execute_result"
    }
   ],
   "source": [
    "cipher_to_plain['o'] = 'T'\n",
    "ciphertext = ciphertext.replace('o','T')\n",
    "ciphertext"
   ]
  },
  {
   "cell_type": "markdown",
   "metadata": {},
   "source": [
    "## Three Word Frequency (the)"
   ]
  },
  {
   "cell_type": "code",
   "execution_count": 14,
   "metadata": {
    "scrolled": true
   },
   "outputs": [
    {
     "data": {
      "text/plain": [
       "'hfcnkTEw ShyElhE yS wAnysgj hHAlvylv THE qfwgs qyTH lEq sEdEgfncElTS HAnnElylv EdEwj sAj A wyvfwfkS EskhATyfl hfceylylv THE THEfwj fu ylufwcATyfl Als hfcnkTATyfl qyTH HAlsSfl SjSTEcS Als SfuTqAwE sESyvl yS THE iEj Tf SkhhESS AS flE fu THE fgsEST hfcnkTEw ShyElhE sEnAwTcElTS yl THE hHyhAvf AwEA THE hS sEnAwTcElT AT yyT HAS A gflv HySTfwj fu cEETylv THyS hHAggElvE THwfkvH mkAgyTj EskhATyfl yl ScAgg hgASSwffc EldywflcElTS Agflv qyTH ylTEwlSHyn Als wESEAwhH fnnfwTklyTyES yl ylskSTwj Als lATyflAg gAefwATfwyESyyT STksElTS qfwi qyTH fkw uAhkgTj fl qfwgshgASS wESEAwhH yl AwEAS THAT ylhgksE sATA ShyElhE sySTwyekTEs SjSTEcS ylufwcATyfl wETwyEdAg hfcnkTEw lETqfwiylv ylTEggyvElT ylufwcATyfl SjSTEcS Als AgvfwyTHcS THE sEnAwTcElT fuuEwS eAhHEgfw fu ShyElhE cASTEw fu ShyElhE nwfuESSyflAg cASTEw Als nHs sEvwEES ngkS vwAskATE hEwTyuyhATES AhhEgEwATEs hfkwSES Als lflsEvwEE STksj nAwTTycE STksElTS hAl TAiE EdElylv hgASSES Als gflvsySTAlhE STksElTS hAl EAwl cASTEwS sEvwEES flgylE STksElTS wATE fkw TEAhHylv AS Acflv THE eEST AT THE klydEwSyTj Als fkw uAhkgTj HAdE qfl lkcEwfkS TEAhHylv AqAwsSTHE SEhwET SElTElhE yS vffs bfe vkjS'"
      ]
     },
     "execution_count": 14,
     "metadata": {},
     "output_type": "execute_result"
    }
   ],
   "source": [
    "cipher_to_plain['x'] = 'H'\n",
    "ciphertext = ciphertext.replace('x','H')\n",
    "ciphertext"
   ]
  },
  {
   "cell_type": "markdown",
   "metadata": {},
   "source": [
    "## 'SECRET' Substitution"
   ]
  },
  {
   "cell_type": "code",
   "execution_count": 15,
   "metadata": {},
   "outputs": [
    {
     "data": {
      "text/plain": [
       "'CfcnkTER SCyElCE yS RAnysgj CHAlvylv THE qfRgs qyTH lEq sEdEgfncElTS HAnnElylv EdERj sAj A RyvfRfkS EskCATyfl Cfceylylv THE THEfRj fu ylufRcATyfl Als CfcnkTATyfl qyTH HAlsSfl SjSTEcS Als SfuTqARE sESyvl yS THE iEj Tf SkCCESS AS flE fu THE fgsEST CfcnkTER SCyElCE sEnARTcElTS yl THE CHyCAvf AREA THE CS sEnARTcElT AT yyT HAS A gflv HySTfRj fu cEETylv THyS CHAggElvE THRfkvH mkAgyTj EskCATyfl yl ScAgg CgASSRffc EldyRflcElTS Agflv qyTH ylTERlSHyn Als RESEARCH fnnfRTklyTyES yl ylskSTRj Als lATyflAg gAefRATfRyESyyT STksElTS qfRi qyTH fkR uACkgTj fl qfRgsCgASS RESEARCH yl AREAS THAT ylCgksE sATA SCyElCE sySTRyekTEs SjSTEcS ylufRcATyfl RETRyEdAg CfcnkTER lETqfRiylv ylTEggyvElT ylufRcATyfl SjSTEcS Als AgvfRyTHcS THE sEnARTcElT fuuERS eACHEgfR fu SCyElCE cASTER fu SCyElCE nRfuESSyflAg cASTER Als nHs sEvREES ngkS vRAskATE CERTyuyCATES ACCEgERATEs CfkRSES Als lflsEvREE STksj nARTTycE STksElTS CAl TAiE EdElylv CgASSES Als gflvsySTAlCE STksElTS CAl EARl cASTERS sEvREES flgylE STksElTS RATE fkR TEACHylv AS Acflv THE eEST AT THE klydERSyTj Als fkR uACkgTj HAdE qfl lkcERfkS TEACHylv AqARsSTHE SECRET SElTElCE yS vffs bfe vkjS'"
      ]
     },
     "execution_count": 15,
     "metadata": {},
     "output_type": "execute_result"
    }
   ],
   "source": [
    "cipher_to_plain['h'] = 'C'\n",
    "cipher_to_plain['w'] = 'R'\n",
    "ciphertext = ciphertext.replace('h','C')\n",
    "ciphertext = ciphertext.replace('w','R')\n",
    "ciphertext"
   ]
  },
  {
   "cell_type": "markdown",
   "metadata": {},
   "source": [
    "## 'TEACHING' Substitution"
   ]
  },
  {
   "cell_type": "code",
   "execution_count": 16,
   "metadata": {
    "scrolled": true
   },
   "outputs": [
    {
     "data": {
      "text/plain": [
       "'CfcnkTER SCIENCE IS RAnIsgj CHANGING THE qfRgs qITH NEq sEdEgfncENTS HAnnENING EdERj sAj A RIGfRfkS EskCATIfN CfceINING THE THEfRj fu INufRcATIfN ANs CfcnkTATIfN qITH HANsSfN SjSTEcS ANs SfuTqARE sESIGN IS THE iEj Tf SkCCESS AS fNE fu THE fgsEST CfcnkTER SCIENCE sEnARTcENTS IN THE CHICAGf AREA THE CS sEnARTcENT AT IIT HAS A gfNG HISTfRj fu cEETING THIS CHAggENGE THRfkGH mkAgITj EskCATIfN IN ScAgg CgASSRffc ENdIRfNcENTS AgfNG qITH INTERNSHIn ANs RESEARCH fnnfRTkNITIES IN INskSTRj ANs NATIfNAg gAefRATfRIESIIT STksENTS qfRi qITH fkR uACkgTj fN qfRgsCgASS RESEARCH IN AREAS THAT INCgksE sATA SCIENCE sISTRIekTEs SjSTEcS INufRcATIfN RETRIEdAg CfcnkTER NETqfRiING INTEggIGENT INufRcATIfN SjSTEcS ANs AgGfRITHcS THE sEnARTcENT fuuERS eACHEgfR fu SCIENCE cASTER fu SCIENCE nRfuESSIfNAg cASTER ANs nHs sEGREES ngkS GRAskATE CERTIuICATES ACCEgERATEs CfkRSES ANs NfNsEGREE STksj nARTTIcE STksENTS CAN TAiE EdENING CgASSES ANs gfNGsISTANCE STksENTS CAN EARN cASTERS sEGREES fNgINE STksENTS RATE fkR TEACHING AS AcfNG THE eEST AT THE kNIdERSITj ANs fkR uACkgTj HAdE qfN NkcERfkS TEACHING AqARsSTHE SECRET SENTENCE IS Gffs bfe GkjS'"
      ]
     },
     "execution_count": 16,
     "metadata": {},
     "output_type": "execute_result"
    }
   ],
   "source": [
    "cipher_to_plain['y'] = 'I'\n",
    "cipher_to_plain['l'] = 'N'\n",
    "cipher_to_plain['v'] = 'G'\n",
    "ciphertext = ciphertext.replace('y','I')\n",
    "ciphertext = ciphertext.replace('l','N')\n",
    "ciphertext = ciphertext.replace('v','G')\n",
    "ciphertext"
   ]
  },
  {
   "cell_type": "markdown",
   "metadata": {},
   "source": [
    "## 'TEACHING' Substitution"
   ]
  },
  {
   "cell_type": "code",
   "execution_count": 17,
   "metadata": {
    "scrolled": true
   },
   "outputs": [
    {
     "data": {
      "text/plain": [
       "'COMPUTER SCIENCE IS RAPIsgj CHANGING THE qORgs qITH NEq sEdEgOPMENTS HAPPENING EdERj sAj A RIGOROUS EsUCATION COMeINING THE THEORj Ou INuORMATION ANs COMPUTATION qITH HANsSON SjSTEMS ANs SOuTqARE sESIGN IS THE iEj TO SUCCESS AS ONE Ou THE OgsEST COMPUTER SCIENCE sEPARTMENTS IN THE CHICAGO AREA THE CS sEPARTMENT AT IIT HAS A gONG HISTORj Ou MEETING THIS CHAggENGE THROUGH mUAgITj EsUCATION IN SMAgg CgASSROOM ENdIRONMENTS AgONG qITH INTERNSHIP ANs RESEARCH OPPORTUNITIES IN INsUSTRj ANs NATIONAg gAeORATORIESIIT STUsENTS qORi qITH OUR uACUgTj ON qORgsCgASS RESEARCH IN AREAS THAT INCgUsE sATA SCIENCE sISTRIeUTEs SjSTEMS INuORMATION RETRIEdAg COMPUTER NETqORiING INTEggIGENT INuORMATION SjSTEMS ANs AgGORITHMS THE sEPARTMENT OuuERS eACHEgOR Ou SCIENCE MASTER Ou SCIENCE PROuESSIONAg MASTER ANs PHs sEGREES PgUS GRAsUATE CERTIuICATES ACCEgERATEs COURSES ANs NONsEGREE STUsj PARTTIME STUsENTS CAN TAiE EdENING CgASSES ANs gONGsISTANCE STUsENTS CAN EARN MASTERS sEGREES ONgINE STUsENTS RATE OUR TEACHING AS AMONG THE eEST AT THE UNIdERSITj ANs OUR uACUgTj HAdE qON NUMEROUS TEACHING AqARsSTHE SECRET SENTENCE IS GOOs bOe GUjS'"
      ]
     },
     "execution_count": 17,
     "metadata": {},
     "output_type": "execute_result"
    }
   ],
   "source": [
    "cipher_to_plain['f'] = 'O'\n",
    "cipher_to_plain['c'] = 'M'\n",
    "cipher_to_plain['n'] = 'P'\n",
    "cipher_to_plain['k'] = 'U'\n",
    "ciphertext = ciphertext.replace('f','O')\n",
    "ciphertext = ciphertext.replace('c','M')\n",
    "ciphertext = ciphertext.replace('n','P')\n",
    "ciphertext = ciphertext.replace('k','U')\n",
    "ciphertext"
   ]
  },
  {
   "cell_type": "markdown",
   "metadata": {},
   "source": [
    "## 'RAPIDLY' Substitution"
   ]
  },
  {
   "cell_type": "code",
   "execution_count": 18,
   "metadata": {
    "scrolled": true
   },
   "outputs": [
    {
     "data": {
      "text/plain": [
       "'COMPUTER SCIENCE IS RAPIDLY CHANGING THE qORLD qITH NEq DEdELOPMENTS HAPPENING EdERY DAY A RIGOROUS EDUCATION COMeINING THE THEORY Ou INuORMATION AND COMPUTATION qITH HANDSON SYSTEMS AND SOuTqARE DESIGN IS THE iEY TO SUCCESS AS ONE Ou THE OLDEST COMPUTER SCIENCE DEPARTMENTS IN THE CHICAGO AREA THE CS DEPARTMENT AT IIT HAS A LONG HISTORY Ou MEETING THIS CHALLENGE THROUGH mUALITY EDUCATION IN SMALL CLASSROOM ENdIRONMENTS ALONG qITH INTERNSHIP AND RESEARCH OPPORTUNITIES IN INDUSTRY AND NATIONAL LAeORATORIESIIT STUDENTS qORi qITH OUR uACULTY ON qORLDCLASS RESEARCH IN AREAS THAT INCLUDE DATA SCIENCE DISTRIeUTED SYSTEMS INuORMATION RETRIEdAL COMPUTER NETqORiING INTELLIGENT INuORMATION SYSTEMS AND ALGORITHMS THE DEPARTMENT OuuERS eACHELOR Ou SCIENCE MASTER Ou SCIENCE PROuESSIONAL MASTER AND PHD DEGREES PLUS GRADUATE CERTIuICATES ACCELERATED COURSES AND NONDEGREE STUDY PARTTIME STUDENTS CAN TAiE EdENING CLASSES AND LONGDISTANCE STUDENTS CAN EARN MASTERS DEGREES ONLINE STUDENTS RATE OUR TEACHING AS AMONG THE eEST AT THE UNIdERSITY AND OUR uACULTY HAdE qON NUMEROUS TEACHING AqARDSTHE SECRET SENTENCE IS GOOD bOe GUYS'"
      ]
     },
     "execution_count": 18,
     "metadata": {},
     "output_type": "execute_result"
    }
   ],
   "source": [
    "cipher_to_plain['s'] = 'D'\n",
    "cipher_to_plain['g'] = 'L'\n",
    "cipher_to_plain['j'] = 'Y'\n",
    "ciphertext = ciphertext.replace('s','D')\n",
    "ciphertext = ciphertext.replace('g','L')\n",
    "ciphertext = ciphertext.replace('j','Y')\n",
    "ciphertext"
   ]
  },
  {
   "cell_type": "markdown",
   "metadata": {},
   "source": [
    "## 'WORLD' Substitution"
   ]
  },
  {
   "cell_type": "code",
   "execution_count": 19,
   "metadata": {
    "scrolled": true
   },
   "outputs": [
    {
     "data": {
      "text/plain": [
       "'COMPUTER SCIENCE IS RAPIDLY CHANGING THE WORLD WITH NEW DEdELOPMENTS HAPPENING EdERY DAY A RIGOROUS EDUCATION COMeINING THE THEORY Ou INuORMATION AND COMPUTATION WITH HANDSON SYSTEMS AND SOuTWARE DESIGN IS THE iEY TO SUCCESS AS ONE Ou THE OLDEST COMPUTER SCIENCE DEPARTMENTS IN THE CHICAGO AREA THE CS DEPARTMENT AT IIT HAS A LONG HISTORY Ou MEETING THIS CHALLENGE THROUGH mUALITY EDUCATION IN SMALL CLASSROOM ENdIRONMENTS ALONG WITH INTERNSHIP AND RESEARCH OPPORTUNITIES IN INDUSTRY AND NATIONAL LAeORATORIESIIT STUDENTS WORi WITH OUR uACULTY ON WORLDCLASS RESEARCH IN AREAS THAT INCLUDE DATA SCIENCE DISTRIeUTED SYSTEMS INuORMATION RETRIEdAL COMPUTER NETWORiING INTELLIGENT INuORMATION SYSTEMS AND ALGORITHMS THE DEPARTMENT OuuERS eACHELOR Ou SCIENCE MASTER Ou SCIENCE PROuESSIONAL MASTER AND PHD DEGREES PLUS GRADUATE CERTIuICATES ACCELERATED COURSES AND NONDEGREE STUDY PARTTIME STUDENTS CAN TAiE EdENING CLASSES AND LONGDISTANCE STUDENTS CAN EARN MASTERS DEGREES ONLINE STUDENTS RATE OUR TEACHING AS AMONG THE eEST AT THE UNIdERSITY AND OUR uACULTY HAdE WON NUMEROUS TEACHING AWARDSTHE SECRET SENTENCE IS GOOD bOe GUYS'"
      ]
     },
     "execution_count": 19,
     "metadata": {},
     "output_type": "execute_result"
    }
   ],
   "source": [
    "cipher_to_plain['q'] = 'W'\n",
    "ciphertext = ciphertext.replace('q','W')\n",
    "ciphertext"
   ]
  },
  {
   "cell_type": "markdown",
   "metadata": {},
   "source": [
    "## 'EVERY' Substitution"
   ]
  },
  {
   "cell_type": "code",
   "execution_count": 20,
   "metadata": {
    "scrolled": true
   },
   "outputs": [
    {
     "data": {
      "text/plain": [
       "'COMPUTER SCIENCE IS RAPIDLY CHANGING THE WORLD WITH NEW DEVELOPMENTS HAPPENING EVERY DAY A RIGOROUS EDUCATION COMeINING THE THEORY Ou INuORMATION AND COMPUTATION WITH HANDSON SYSTEMS AND SOuTWARE DESIGN IS THE iEY TO SUCCESS AS ONE Ou THE OLDEST COMPUTER SCIENCE DEPARTMENTS IN THE CHICAGO AREA THE CS DEPARTMENT AT IIT HAS A LONG HISTORY Ou MEETING THIS CHALLENGE THROUGH mUALITY EDUCATION IN SMALL CLASSROOM ENVIRONMENTS ALONG WITH INTERNSHIP AND RESEARCH OPPORTUNITIES IN INDUSTRY AND NATIONAL LAeORATORIESIIT STUDENTS WORi WITH OUR uACULTY ON WORLDCLASS RESEARCH IN AREAS THAT INCLUDE DATA SCIENCE DISTRIeUTED SYSTEMS INuORMATION RETRIEVAL COMPUTER NETWORiING INTELLIGENT INuORMATION SYSTEMS AND ALGORITHMS THE DEPARTMENT OuuERS eACHELOR Ou SCIENCE MASTER Ou SCIENCE PROuESSIONAL MASTER AND PHD DEGREES PLUS GRADUATE CERTIuICATES ACCELERATED COURSES AND NONDEGREE STUDY PARTTIME STUDENTS CAN TAiE EVENING CLASSES AND LONGDISTANCE STUDENTS CAN EARN MASTERS DEGREES ONLINE STUDENTS RATE OUR TEACHING AS AMONG THE eEST AT THE UNIVERSITY AND OUR uACULTY HAVE WON NUMEROUS TEACHING AWARDSTHE SECRET SENTENCE IS GOOD bOe GUYS'"
      ]
     },
     "execution_count": 20,
     "metadata": {},
     "output_type": "execute_result"
    }
   ],
   "source": [
    "cipher_to_plain['d'] = 'V'\n",
    "ciphertext = ciphertext.replace('d','V')\n",
    "ciphertext"
   ]
  },
  {
   "cell_type": "markdown",
   "metadata": {},
   "source": [
    "## 'FACULTY' Substitution"
   ]
  },
  {
   "cell_type": "code",
   "execution_count": 21,
   "metadata": {
    "scrolled": true
   },
   "outputs": [
    {
     "data": {
      "text/plain": [
       "'COMPUTER SCIENCE IS RAPIDLY CHANGING THE WORLD WITH NEW DEVELOPMENTS HAPPENING EVERY DAY A RIGOROUS EDUCATION COMeINING THE THEORY OF INFORMATION AND COMPUTATION WITH HANDSON SYSTEMS AND SOFTWARE DESIGN IS THE iEY TO SUCCESS AS ONE OF THE OLDEST COMPUTER SCIENCE DEPARTMENTS IN THE CHICAGO AREA THE CS DEPARTMENT AT IIT HAS A LONG HISTORY OF MEETING THIS CHALLENGE THROUGH mUALITY EDUCATION IN SMALL CLASSROOM ENVIRONMENTS ALONG WITH INTERNSHIP AND RESEARCH OPPORTUNITIES IN INDUSTRY AND NATIONAL LAeORATORIESIIT STUDENTS WORi WITH OUR FACULTY ON WORLDCLASS RESEARCH IN AREAS THAT INCLUDE DATA SCIENCE DISTRIeUTED SYSTEMS INFORMATION RETRIEVAL COMPUTER NETWORiING INTELLIGENT INFORMATION SYSTEMS AND ALGORITHMS THE DEPARTMENT OFFERS eACHELOR OF SCIENCE MASTER OF SCIENCE PROFESSIONAL MASTER AND PHD DEGREES PLUS GRADUATE CERTIFICATES ACCELERATED COURSES AND NONDEGREE STUDY PARTTIME STUDENTS CAN TAiE EVENING CLASSES AND LONGDISTANCE STUDENTS CAN EARN MASTERS DEGREES ONLINE STUDENTS RATE OUR TEACHING AS AMONG THE eEST AT THE UNIVERSITY AND OUR FACULTY HAVE WON NUMEROUS TEACHING AWARDSTHE SECRET SENTENCE IS GOOD bOe GUYS'"
      ]
     },
     "execution_count": 21,
     "metadata": {},
     "output_type": "execute_result"
    }
   ],
   "source": [
    "cipher_to_plain['u'] = 'F'\n",
    "ciphertext = ciphertext.replace('u','F')\n",
    "ciphertext"
   ]
  },
  {
   "cell_type": "markdown",
   "metadata": {},
   "source": [
    "## 'TAKE' Substitution"
   ]
  },
  {
   "cell_type": "code",
   "execution_count": 22,
   "metadata": {
    "scrolled": true
   },
   "outputs": [
    {
     "data": {
      "text/plain": [
       "'COMPUTER SCIENCE IS RAPIDLY CHANGING THE WORLD WITH NEW DEVELOPMENTS HAPPENING EVERY DAY A RIGOROUS EDUCATION COMeINING THE THEORY OF INFORMATION AND COMPUTATION WITH HANDSON SYSTEMS AND SOFTWARE DESIGN IS THE KEY TO SUCCESS AS ONE OF THE OLDEST COMPUTER SCIENCE DEPARTMENTS IN THE CHICAGO AREA THE CS DEPARTMENT AT IIT HAS A LONG HISTORY OF MEETING THIS CHALLENGE THROUGH mUALITY EDUCATION IN SMALL CLASSROOM ENVIRONMENTS ALONG WITH INTERNSHIP AND RESEARCH OPPORTUNITIES IN INDUSTRY AND NATIONAL LAeORATORIESIIT STUDENTS WORK WITH OUR FACULTY ON WORLDCLASS RESEARCH IN AREAS THAT INCLUDE DATA SCIENCE DISTRIeUTED SYSTEMS INFORMATION RETRIEVAL COMPUTER NETWORKING INTELLIGENT INFORMATION SYSTEMS AND ALGORITHMS THE DEPARTMENT OFFERS eACHELOR OF SCIENCE MASTER OF SCIENCE PROFESSIONAL MASTER AND PHD DEGREES PLUS GRADUATE CERTIFICATES ACCELERATED COURSES AND NONDEGREE STUDY PARTTIME STUDENTS CAN TAKE EVENING CLASSES AND LONGDISTANCE STUDENTS CAN EARN MASTERS DEGREES ONLINE STUDENTS RATE OUR TEACHING AS AMONG THE eEST AT THE UNIVERSITY AND OUR FACULTY HAVE WON NUMEROUS TEACHING AWARDSTHE SECRET SENTENCE IS GOOD bOe GUYS'"
      ]
     },
     "execution_count": 22,
     "metadata": {},
     "output_type": "execute_result"
    }
   ],
   "source": [
    "cipher_to_plain['i'] = 'K'\n",
    "ciphertext = ciphertext.replace('i','K')\n",
    "ciphertext"
   ]
  },
  {
   "cell_type": "markdown",
   "metadata": {},
   "source": [
    "## 'QUALITY' Substitution"
   ]
  },
  {
   "cell_type": "code",
   "execution_count": 23,
   "metadata": {
    "scrolled": true
   },
   "outputs": [
    {
     "data": {
      "text/plain": [
       "'COMPUTER SCIENCE IS RAPIDLY CHANGING THE WORLD WITH NEW DEVELOPMENTS HAPPENING EVERY DAY A RIGOROUS EDUCATION COMeINING THE THEORY OF INFORMATION AND COMPUTATION WITH HANDSON SYSTEMS AND SOFTWARE DESIGN IS THE KEY TO SUCCESS AS ONE OF THE OLDEST COMPUTER SCIENCE DEPARTMENTS IN THE CHICAGO AREA THE CS DEPARTMENT AT IIT HAS A LONG HISTORY OF MEETING THIS CHALLENGE THROUGH QUALITY EDUCATION IN SMALL CLASSROOM ENVIRONMENTS ALONG WITH INTERNSHIP AND RESEARCH OPPORTUNITIES IN INDUSTRY AND NATIONAL LAeORATORIESIIT STUDENTS WORK WITH OUR FACULTY ON WORLDCLASS RESEARCH IN AREAS THAT INCLUDE DATA SCIENCE DISTRIeUTED SYSTEMS INFORMATION RETRIEVAL COMPUTER NETWORKING INTELLIGENT INFORMATION SYSTEMS AND ALGORITHMS THE DEPARTMENT OFFERS eACHELOR OF SCIENCE MASTER OF SCIENCE PROFESSIONAL MASTER AND PHD DEGREES PLUS GRADUATE CERTIFICATES ACCELERATED COURSES AND NONDEGREE STUDY PARTTIME STUDENTS CAN TAKE EVENING CLASSES AND LONGDISTANCE STUDENTS CAN EARN MASTERS DEGREES ONLINE STUDENTS RATE OUR TEACHING AS AMONG THE eEST AT THE UNIVERSITY AND OUR FACULTY HAVE WON NUMEROUS TEACHING AWARDSTHE SECRET SENTENCE IS GOOD bOe GUYS'"
      ]
     },
     "execution_count": 23,
     "metadata": {},
     "output_type": "execute_result"
    }
   ],
   "source": [
    "cipher_to_plain['m'] = 'Q'\n",
    "ciphertext = ciphertext.replace('m','Q')\n",
    "ciphertext"
   ]
  },
  {
   "cell_type": "markdown",
   "metadata": {},
   "source": [
    "## 'BEST' Substitution"
   ]
  },
  {
   "cell_type": "code",
   "execution_count": 24,
   "metadata": {
    "scrolled": true
   },
   "outputs": [
    {
     "data": {
      "text/plain": [
       "'COMPUTER SCIENCE IS RAPIDLY CHANGING THE WORLD WITH NEW DEVELOPMENTS HAPPENING EVERY DAY A RIGOROUS EDUCATION COMBINING THE THEORY OF INFORMATION AND COMPUTATION WITH HANDSON SYSTEMS AND SOFTWARE DESIGN IS THE KEY TO SUCCESS AS ONE OF THE OLDEST COMPUTER SCIENCE DEPARTMENTS IN THE CHICAGO AREA THE CS DEPARTMENT AT IIT HAS A LONG HISTORY OF MEETING THIS CHALLENGE THROUGH QUALITY EDUCATION IN SMALL CLASSROOM ENVIRONMENTS ALONG WITH INTERNSHIP AND RESEARCH OPPORTUNITIES IN INDUSTRY AND NATIONAL LABORATORIESIIT STUDENTS WORK WITH OUR FACULTY ON WORLDCLASS RESEARCH IN AREAS THAT INCLUDE DATA SCIENCE DISTRIBUTED SYSTEMS INFORMATION RETRIEVAL COMPUTER NETWORKING INTELLIGENT INFORMATION SYSTEMS AND ALGORITHMS THE DEPARTMENT OFFERS BACHELOR OF SCIENCE MASTER OF SCIENCE PROFESSIONAL MASTER AND PHD DEGREES PLUS GRADUATE CERTIFICATES ACCELERATED COURSES AND NONDEGREE STUDY PARTTIME STUDENTS CAN TAKE EVENING CLASSES AND LONGDISTANCE STUDENTS CAN EARN MASTERS DEGREES ONLINE STUDENTS RATE OUR TEACHING AS AMONG THE BEST AT THE UNIVERSITY AND OUR FACULTY HAVE WON NUMEROUS TEACHING AWARDSTHE SECRET SENTENCE IS GOOD bOB GUYS'"
      ]
     },
     "execution_count": 24,
     "metadata": {},
     "output_type": "execute_result"
    }
   ],
   "source": [
    "cipher_to_plain['e'] = 'B'\n",
    "ciphertext = ciphertext.replace('e','B')\n",
    "ciphertext"
   ]
  },
  {
   "cell_type": "markdown",
   "metadata": {},
   "source": [
    "## 'JOB' Substitution"
   ]
  },
  {
   "cell_type": "code",
   "execution_count": 25,
   "metadata": {
    "scrolled": true
   },
   "outputs": [
    {
     "data": {
      "text/plain": [
       "'COMPUTER SCIENCE IS RAPIDLY CHANGING THE WORLD WITH NEW DEVELOPMENTS HAPPENING EVERY DAY A RIGOROUS EDUCATION COMBINING THE THEORY OF INFORMATION AND COMPUTATION WITH HANDSON SYSTEMS AND SOFTWARE DESIGN IS THE KEY TO SUCCESS AS ONE OF THE OLDEST COMPUTER SCIENCE DEPARTMENTS IN THE CHICAGO AREA THE CS DEPARTMENT AT IIT HAS A LONG HISTORY OF MEETING THIS CHALLENGE THROUGH QUALITY EDUCATION IN SMALL CLASSROOM ENVIRONMENTS ALONG WITH INTERNSHIP AND RESEARCH OPPORTUNITIES IN INDUSTRY AND NATIONAL LABORATORIESIIT STUDENTS WORK WITH OUR FACULTY ON WORLDCLASS RESEARCH IN AREAS THAT INCLUDE DATA SCIENCE DISTRIBUTED SYSTEMS INFORMATION RETRIEVAL COMPUTER NETWORKING INTELLIGENT INFORMATION SYSTEMS AND ALGORITHMS THE DEPARTMENT OFFERS BACHELOR OF SCIENCE MASTER OF SCIENCE PROFESSIONAL MASTER AND PHD DEGREES PLUS GRADUATE CERTIFICATES ACCELERATED COURSES AND NONDEGREE STUDY PARTTIME STUDENTS CAN TAKE EVENING CLASSES AND LONGDISTANCE STUDENTS CAN EARN MASTERS DEGREES ONLINE STUDENTS RATE OUR TEACHING AS AMONG THE BEST AT THE UNIVERSITY AND OUR FACULTY HAVE WON NUMEROUS TEACHING AWARDSTHE SECRET SENTENCE IS GOOD JOB GUYS'"
      ]
     },
     "execution_count": 25,
     "metadata": {},
     "output_type": "execute_result"
    }
   ],
   "source": [
    "cipher_to_plain['b'] = 'J'\n",
    "ciphertext = ciphertext.replace('b','J')\n",
    "ciphertext"
   ]
  },
  {
   "cell_type": "markdown",
   "metadata": {},
   "source": [
    "## Leftover"
   ]
  },
  {
   "cell_type": "code",
   "execution_count": 26,
   "metadata": {},
   "outputs": [],
   "source": [
    "missing_plain = list(alphabets)\n",
    "for c in cipher_to_plain.items():\n",
    "    missing_plain.remove(c[1].lower())\n",
    "missing_plain = [m.upper() for m in missing_plain]\n",
    "    \n",
    "missing_cipher = list(alphabets)\n",
    "for c in cipher_to_plain.items():\n",
    "    missing_cipher.remove(c[0])\n",
    "    \n",
    "for m in missing_cipher:\n",
    "    cipher_to_plain[m] = missing_plain"
   ]
  },
  {
   "cell_type": "markdown",
   "metadata": {},
   "source": [
    "# KEY"
   ]
  },
  {
   "cell_type": "code",
   "execution_count": 27,
   "metadata": {
    "scrolled": false
   },
   "outputs": [
    {
     "data": {
      "text/plain": [
       "[('a', 'S'),\n",
       " ('b', 'J'),\n",
       " ('c', 'M'),\n",
       " ('d', 'V'),\n",
       " ('e', 'B'),\n",
       " ('f', 'O'),\n",
       " ('g', 'L'),\n",
       " ('h', 'C'),\n",
       " ('i', 'K'),\n",
       " ('j', 'Y'),\n",
       " ('k', 'U'),\n",
       " ('l', 'N'),\n",
       " ('m', 'Q'),\n",
       " ('n', 'P'),\n",
       " ('o', 'T'),\n",
       " ('p', 'E'),\n",
       " ('q', 'W'),\n",
       " ('r', ['X', 'Z']),\n",
       " ('s', 'D'),\n",
       " ('t', ['X', 'Z']),\n",
       " ('u', 'F'),\n",
       " ('v', 'G'),\n",
       " ('w', 'R'),\n",
       " ('x', 'H'),\n",
       " ('y', 'I'),\n",
       " ('z', 'A')]"
      ]
     },
     "execution_count": 27,
     "metadata": {},
     "output_type": "execute_result"
    }
   ],
   "source": [
    "sorted(cipher_to_plain.items())"
   ]
  }
 ],
 "metadata": {
  "kernelspec": {
   "display_name": "Python 3",
   "language": "python",
   "name": "python3"
  },
  "language_info": {
   "codemirror_mode": {
    "name": "ipython",
    "version": 3
   },
   "file_extension": ".py",
   "mimetype": "text/x-python",
   "name": "python",
   "nbconvert_exporter": "python",
   "pygments_lexer": "ipython3",
   "version": "3.6.8"
  },
  "toc": {
   "base_numbering": 1,
   "nav_menu": {},
   "number_sections": false,
   "sideBar": true,
   "skip_h1_title": false,
   "title_cell": "Table of Contents",
   "title_sidebar": "Contents",
   "toc_cell": false,
   "toc_position": {},
   "toc_section_display": true,
   "toc_window_display": false
  }
 },
 "nbformat": 4,
 "nbformat_minor": 2
}

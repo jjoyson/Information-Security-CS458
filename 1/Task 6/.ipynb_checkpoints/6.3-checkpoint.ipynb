{
 "cells": [
  {
   "cell_type": "markdown",
   "metadata": {},
   "source": [
    "# 6.3"
   ]
  },
  {
   "cell_type": "code",
   "execution_count": 66,
   "metadata": {},
   "outputs": [],
   "source": [
    "import bitarray\n",
    "P1 = 'Yes'\n",
    "oIV = '31323334353637383930313233343536'\n",
    "nIV = '31323334353637383930313233343537'\n",
    "P2 = '?'"
   ]
  },
  {
   "cell_type": "code",
   "execution_count": 68,
   "metadata": {},
   "outputs": [
    {
     "data": {
      "text/plain": [
       "'Yes\\r\\r\\r\\r\\r\\r\\r\\r\\r\\r\\r\\r\\x0c'"
      ]
     },
     "execution_count": 68,
     "metadata": {},
     "output_type": "execute_result"
    }
   ],
   "source": [
    "ba = bitarray.bitarray()\n",
    "ba.frombytes(P1.encode('utf-8'))\n",
    "P1_binary = list(ba)\n",
    "\n",
    "oIV_binary = [True if b == '1' else False for b in bin(int(oIV, 16))]\n",
    "nIV_binary = [True if b == '1' else False for b in bin(int(nIV, 16))]\n",
    "\n",
    "\n",
    "for f in range(int((len(oIV_binary) - len(P1_binary))/8)):\n",
    "    P1_binary += [0,0,0,0,1,1,0,1]\n",
    "\n",
    "X = [oIV_binary[c] != P1_binary[c] for c in range(len(oIV_binary))] \n",
    "X_str = ''\n",
    "for x in X:\n",
    "    if p == True:\n",
    "        X_str += '1'\n",
    "    else:\n",
    "        X_str += '0'\n",
    "X_hex = hex(int(X_str, 2))[2:]\n",
    "print(X_hex)\n",
    "\n",
    "P2_binary = [X[c] != nIV_binary[c] for c in range(len(nIV_binary))]\n",
    "\n",
    "P2_binary_str = ''\n",
    "for p in P2_binary:\n",
    "    if p == True:\n",
    "        P2_binary_str += '1'\n",
    "    else:\n",
    "        P2_binary_str += '0'\n",
    "\n",
    "P2_hex = hex(int(P2_binary_str, 2))[2:]\n",
    "P2 = bytearray.fromhex(P2_hex).decode()\n",
    "P2"
   ]
  }
 ],
 "metadata": {
  "kernelspec": {
   "display_name": "Python 3",
   "language": "python",
   "name": "python3"
  },
  "language_info": {
   "codemirror_mode": {
    "name": "ipython",
    "version": 3
   },
   "file_extension": ".py",
   "mimetype": "text/x-python",
   "name": "python",
   "nbconvert_exporter": "python",
   "pygments_lexer": "ipython3",
   "version": "3.6.8"
  },
  "toc": {
   "base_numbering": 1,
   "nav_menu": {},
   "number_sections": false,
   "sideBar": true,
   "skip_h1_title": false,
   "title_cell": "Table of Contents",
   "title_sidebar": "Contents",
   "toc_cell": false,
   "toc_position": {},
   "toc_section_display": true,
   "toc_window_display": false
  }
 },
 "nbformat": 4,
 "nbformat_minor": 2
}
